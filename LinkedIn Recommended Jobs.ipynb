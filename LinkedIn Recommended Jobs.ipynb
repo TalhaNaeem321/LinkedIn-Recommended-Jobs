{
 "cells": [
  {
   "cell_type": "code",
   "execution_count": 3,
   "metadata": {},
   "outputs": [],
   "source": [
    "from selenium import webdriver\n",
    "from selenium.webdriver.common.keys import Keys\n",
    "from selenium.webdriver.support import expected_conditions as EC\n",
    "from selenium.webdriver.common.by import By\n",
    "from selenium.webdriver.support.wait import WebDriverWait\n",
    "import time"
   ]
  },
  {
   "cell_type": "code",
   "execution_count": 34,
   "metadata": {},
   "outputs": [
    {
     "name": "stderr",
     "output_type": "stream",
     "text": [
      "<ipython-input-34-20ec77e1f76e>:4: DeprecationWarning: use options instead of chrome_options\n",
      "  driver = webdriver.Chrome(chrome_options=chrome_options)\n"
     ]
    }
   ],
   "source": [
    "chrome_options = webdriver.ChromeOptions()\n",
    "prefs = {\"profile.default_content_setting_values.notifications\" : 2}\n",
    "chrome_options.add_experimental_option(\"prefs\",prefs)\n",
    "driver = webdriver.Chrome(chrome_options=chrome_options)\n",
    "driver.set_window_size(1350,1000)"
   ]
  },
  {
   "cell_type": "code",
   "execution_count": 35,
   "metadata": {},
   "outputs": [],
   "source": [
    "driver.get(\"https://www.linkedin.com/\")\n",
    "\n",
    "time.sleep(3)"
   ]
  },
  {
   "cell_type": "code",
   "execution_count": 36,
   "metadata": {},
   "outputs": [],
   "source": [
    "css = 'input[autocomplete=\"username\"]'\n",
    "\n",
    "username = WebDriverWait(driver, 10).until(EC.element_to_be_clickable((By.CSS_SELECTOR,css)))\n",
    "\n",
    "username.clear()\n",
    "username.send_keys(\"muhammaddanialgauhar@gmail.com\")\n",
    "\n",
    "css = 'input[name=\"session_password\"]'\n",
    "\n",
    "password = WebDriverWait(driver, 10).until(EC.element_to_be_clickable((By.CSS_SELECTOR,css)))\n",
    "\n",
    "password.clear()\n",
    "password.send_keys(pss)"
   ]
  },
  {
   "cell_type": "code",
   "execution_count": 37,
   "metadata": {},
   "outputs": [],
   "source": [
    "css = 'button[type=\"submit\"]'\n",
    "\n",
    "button = WebDriverWait(driver, 10).until(EC.element_to_be_clickable((By.CSS_SELECTOR,css)))\n",
    "button.click()\n",
    "\n",
    "time.sleep(3)"
   ]
  },
  {
   "cell_type": "code",
   "execution_count": 38,
   "metadata": {},
   "outputs": [
    {
     "name": "stdout",
     "output_type": "stream",
     "text": [
      "Not Visible\n"
     ]
    }
   ],
   "source": [
    "try:\n",
    "    \n",
    "    path = \"//button[contains(),'Confrim']\"\n",
    "    button = WebDriverWait(driver, 10).until(EC.element_to_be_clickable((By.XPATH,path)))\n",
    "    button.click()\n",
    "    \n",
    "except:\n",
    "    print(\"Not Visible\")"
   ]
  },
  {
   "cell_type": "code",
   "execution_count": 39,
   "metadata": {},
   "outputs": [],
   "source": [
    "driver.get(\"https://www.linkedin.com/jobs/\")\n",
    "\n",
    "time.sleep(3)"
   ]
  },
  {
   "cell_type": "code",
   "execution_count": 40,
   "metadata": {},
   "outputs": [
    {
     "name": "stderr",
     "output_type": "stream",
     "text": [
      "<ipython-input-40-5f5509b96049>:1: DeprecationWarning: find_elements_by_class_name is deprecated. Please use find_elements(by=By.CLASS_NAME, value=name) instead\n",
      "  section = driver.find_elements_by_class_name(\"artdeco-card\")\n"
     ]
    }
   ],
   "source": [
    "section = driver.find_elements_by_class_name(\"artdeco-card\")"
   ]
  },
  {
   "cell_type": "code",
   "execution_count": 41,
   "metadata": {},
   "outputs": [],
   "source": [
    "for i in section:\n",
    "    if str(i.text).startswith(\"Recommended for you\"):\n",
    "        div = i\n",
    "        break"
   ]
  },
  {
   "cell_type": "code",
   "execution_count": 42,
   "metadata": {},
   "outputs": [
    {
     "name": "stdout",
     "output_type": "stream",
     "text": [
      "Recommended for you\n",
      "Based on your profile and search history.\n",
      "Remote Data Engineer\n",
      "MonetizeMore\n",
      "Faisalabad, Punjab, Pakistan\n",
      "Remote\n",
      "Save Remote Data Engineer at MonetizeMore\n",
      "2 months ago\n",
      "24 applicants\n",
      "Easy Apply\n",
      "Lead Data Analyst\n",
      "Daraz\n",
      "Karāchi, Sindh, Pakistan\n",
      "On-site\n",
      "Save Lead Data Analyst at Daraz\n",
      "Actively recruiting\n",
      "Promoted\n",
      "Easy Apply\n",
      "Associate Data Processing Engineer\n",
      "GfK\n",
      "Karachi Division, Pakistan\n",
      "Save Associate Data Processing Engineer at GfK\n",
      "Actively recruiting\n",
      "Promoted\n",
      "16 applicants\n",
      "Senior SQA Automation M3008\n",
      "Nisum\n",
      "Karāchi, Sindh, Pakistan\n",
      "Save Senior SQA Automation M3008 at Nisum\n",
      "2 connections work here\n",
      "Promoted\n",
      "Associate Data Processing Engineer\n",
      "GfK\n",
      "Karachi Division, Pakistan\n",
      "Save Associate Data Processing Engineer at GfK\n",
      "Actively recruiting\n",
      "3 months ago\n",
      "Business Intelligence Developer\n",
      "VavaCars\n",
      "Karachi Division, Pakistan\n",
      "On-site\n",
      "Save Business Intelligence Developer at VavaCars\n",
      "Actively recruiting\n",
      "2 weeks ago\n",
      "Easy Apply\n",
      "Senior Consultant - Manager, Data analytics, Rapid Innovation Team, Karachi\n",
      "EY\n",
      "Karāchi, Sindh, Pakistan\n",
      "Save Senior Consultant - Manager, Data analytics, Rapid Innovation Team, Karachi at EY\n",
      "1 connection works here\n",
      "Promoted\n",
      "M&A Analyst\n",
      "Banyan Software\n",
      "Karāchi, Sindh, Pakistan\n",
      "Hybrid\n",
      "Save M&A Analyst at Banyan Software\n",
      "Promoted\n",
      "Content Contributor for Data Collection Study\n",
      "TransPerfect\n",
      "Karāchi, Sindh, Pakistan\n",
      "Remote\n",
      "Save Content Contributor for Data Collection Study at TransPerfect\n",
      "Actively recruiting\n",
      "Promoted\n",
      "19 applicants\n",
      "Growth Lead\n",
      "Careem\n",
      "Karāchi, Sindh, Pakistan\n",
      "On-site\n",
      "Save Growth Lead at Careem\n",
      "Actively recruiting\n",
      "1 week ago\n",
      "Data Engineer, Totogi (Remote) - $60,000/year USD\n",
      "Crossover for Work\n",
      "Lahore, Punjab, Pakistan\n",
      "Remote\n",
      "Save Data Engineer, Totogi (Remote) - $60,000/year USD at Crossover for Work\n",
      "Actively recruiting\n",
      "2 days ago\n",
      "Easy Apply\n",
      "Data Engineer - F/H\n",
      "INGENIANCE\n",
      "Karāchi, Sindh, Pakistan\n",
      "Save Data Engineer - F/H at INGENIANCE\n",
      "1 month ago\n",
      "23 applicants\n",
      "Deputy Manager Data Science\n",
      "K-Electric\n",
      "Karāchi, Sindh, Pakistan\n",
      "On-site\n",
      "Save Deputy Manager Data Science at K-Electric\n",
      "2 connections work here\n",
      "Promoted\n",
      "Software Engineer II (Backend) - Operations Automation\n",
      "Careem\n",
      "Karāchi, Sindh, Pakistan\n",
      "Save Software Engineer II (Backend) - Operations Automation at Careem\n",
      "Actively recruiting\n",
      "Promoted\n",
      "20 applicants\n",
      "Lead Data Engineer (Fully Remote)\n",
      "ELEMENTS GLOBAL SERVICES\n",
      "Pakistan\n",
      "Remote\n",
      "Save Lead Data Engineer (Fully Remote) at ELEMENTS GLOBAL SERVICES\n",
      "Actively recruiting\n",
      "1 week ago\n",
      "Senior Research Executive\n",
      "NielsenIQ\n",
      "Karāchi, Sindh, Pakistan\n",
      "Save Senior Research Executive at NielsenIQ\n",
      "Actively recruiting\n",
      "1 week ago\n",
      "Senior Consultant | Business Consulting - ABF Financial Planning, Analysis & Consolidation\n",
      "EY\n",
      "Karāchi, Sindh, Pakistan\n",
      "Save Senior Consultant | Business Consulting - ABF Financial Planning, Analysis & Consolidation at EY\n",
      "1 connection works here\n",
      "3 weeks ago\n",
      "0 applicants\n",
      "DevOps Engineer (MLOps)\n",
      "Innovative Solutions\n",
      "Karāchi, Sindh, Pakistan\n",
      "On-site\n",
      "Save DevOps Engineer (MLOps) at Innovative Solutions\n",
      "Actively recruiting\n",
      "2 weeks ago\n",
      "15 applicants\n",
      "Easy Apply\n",
      "Officer - Regulatory Compliance\n",
      "ACCA Careers\n",
      "Karāchi, Sindh, Pakistan\n",
      "On-site\n",
      "Save Officer - Regulatory Compliance at ACCA Careers\n",
      "4 days ago\n",
      "3 applicants\n",
      "Dotnet Developer\n",
      "O3 Interfaces\n",
      "Karāchi, Sindh, Pakistan\n",
      "On-site\n",
      "Save Dotnet Developer at O3 Interfaces\n",
      "Actively recruiting\n",
      "3 days ago\n",
      "16 applicants\n",
      "Easy Apply\n",
      "Sales Account Manager/ Networking (Based in Karachi, Pakistan)\n",
      "Ingram Micro\n",
      "Karachi Division, Pakistan\n",
      "Save Sales Account Manager/ Networking (Based in Karachi, Pakistan) at Ingram Micro\n",
      "Actively recruiting\n",
      "1 day ago\n",
      "See more jobs\n"
     ]
    }
   ],
   "source": [
    "print(div.text)"
   ]
  },
  {
   "cell_type": "code",
   "execution_count": 43,
   "metadata": {},
   "outputs": [],
   "source": [
    "anchors = div.find_elements_by_tag_name(\"a\")"
   ]
  },
  {
   "cell_type": "code",
   "execution_count": 48,
   "metadata": {},
   "outputs": [
    {
     "data": {
      "text/plain": [
       "'https://www.linkedin.com/jobs/collections/recommended/?currentJobId=2908797209&start=0'"
      ]
     },
     "execution_count": 48,
     "metadata": {},
     "output_type": "execute_result"
    }
   ],
   "source": [
    "anchors[0].get_attribute(\"href\")"
   ]
  },
  {
   "cell_type": "code",
   "execution_count": 52,
   "metadata": {},
   "outputs": [],
   "source": [
    "anchors = [a.get_attribute(\"href\") for a in anchors \\\n",
    " if str(a.get_attribute(\"href\")).startswith(\"https://www.linkedin.com/jobs/collections/recommended/\")]"
   ]
  },
  {
   "cell_type": "code",
   "execution_count": 54,
   "metadata": {},
   "outputs": [
    {
     "data": {
      "text/plain": [
       "21"
      ]
     },
     "execution_count": 54,
     "metadata": {},
     "output_type": "execute_result"
    }
   ],
   "source": [
    "anchors = list(set(anchors))\n",
    "len(anchors)"
   ]
  },
  {
   "cell_type": "code",
   "execution_count": 56,
   "metadata": {},
   "outputs": [],
   "source": [
    "driver.get(anchors[2])\n",
    "time.sleep(3)"
   ]
  },
  {
   "cell_type": "code",
   "execution_count": 83,
   "metadata": {},
   "outputs": [
    {
     "name": "stderr",
     "output_type": "stream",
     "text": [
      "<ipython-input-83-a2d3ecfd9cc9>:1: DeprecationWarning: find_element_by_class_name is deprecated. Please use find_element(by=By.CLASS_NAME, value=name) instead\n",
      "  job_div = driver.find_element_by_class_name(\"jobs-unified-top-card\")\n"
     ]
    },
    {
     "data": {
      "text/plain": [
       "['Senior Consultant - Manager, Data analytics, Rapid Innovation Team, Karachi',\n",
       " 'EY Karāchi, Sindh, Pakistan',\n",
       " 'Full-time',\n",
       " 'Mid-Senior level',\n",
       " '10,001+ employees',\n",
       " 'Accounting',\n",
       " 'https://www.linkedin.com/jobs/collections/recommended/?currentJobId=2941118364&start=0']"
      ]
     },
     "execution_count": 83,
     "metadata": {},
     "output_type": "execute_result"
    }
   ],
   "source": [
    "job_div = driver.find_element_by_class_name(\"jobs-unified-top-card\")\n",
    "# print(job_div.text)\n",
    "job_title = job_div.find_element_by_tag_name(\"h2\").text\n",
    "job_subtitle = job_div.find_element_by_class_name(\"jobs-unified-top-card__subtitle-primary-grouping\").text\n",
    "\n",
    "# job_div.find_element_by_class_name(\"jobs-unified-top-card__job-insight\").text.split(\"·\")\n",
    "a = job_div.find_elements_by_class_name(\"jobs-unified-top-card__job-insight\")[0].text.split(\"·\")\n",
    "job_type, job_exp = a[0].strip(), a[1].strip() \n",
    "b = job_div.find_elements_by_class_name(\"jobs-unified-top-card__job-insight\")[1].text.split(\"·\")\n",
    "no_emps, services = b[0].strip(), b[1].strip() \n",
    "no_emps, services\n",
    "\n",
    "[job_title,job_subtitle,job_type, job_exp,no_emps, services,anchors[2]]"
   ]
  },
  {
   "cell_type": "code",
   "execution_count": 86,
   "metadata": {},
   "outputs": [
    {
     "name": "stderr",
     "output_type": "stream",
     "text": [
      "<ipython-input-86-5b6f02b862ac>:6: DeprecationWarning: find_element_by_class_name is deprecated. Please use find_element(by=By.CLASS_NAME, value=name) instead\n",
      "  job_div = driver.find_element_by_class_name(\"jobs-unified-top-card\")\n"
     ]
    },
    {
     "name": "stdout",
     "output_type": "stream",
     "text": [
      "['Dotnet Developer', 'O3 Interfaces Karāchi, Sindh, Pakistan On-site', 'https://www.linkedin.com/jobs/collections/recommended/?currentJobId=2994691260&start=0']\n",
      "['Data Engineer, Totogi (Remote) - $60,000/year USD', 'Crossover for Work Lahore, Punjab, Pakistan Remote', 'https://www.linkedin.com/jobs/collections/recommended/?currentJobId=2991378422&start=0']\n",
      "['Senior Consultant - Manager, Data analytics, Rapid Innovation Team, Karachi', 'EY Karāchi, Sindh, Pakistan', 'https://www.linkedin.com/jobs/collections/recommended/?currentJobId=2941118364&start=0']\n",
      "['Senior SQA Automation M3008', 'Nisum Karāchi, Sindh, Pakistan', 'https://www.linkedin.com/jobs/collections/recommended/?currentJobId=2892182445&start=0']\n",
      "['Remote Data Engineer', 'MonetizeMore Faisalabad, Punjab, Pakistan Remote', 'https://www.linkedin.com/jobs/collections/recommended/?currentJobId=2908797209&start=0']\n",
      "['Sales Account Manager/ Networking (Based in Karachi, Pakistan)', 'Ingram Micro Karachi Division, Pakistan', 'https://www.linkedin.com/jobs/collections/recommended/?currentJobId=3002801884&start=0']\n",
      "['Data Engineer - F/H', 'INGENIANCE Karāchi, Sindh, Pakistan', 'https://www.linkedin.com/jobs/collections/recommended/?currentJobId=2941064456&start=0']\n",
      "['Content Contributor for Data Collection Study', 'TransPerfect Karāchi, Sindh, Pakistan Remote', 'https://www.linkedin.com/jobs/collections/recommended/?currentJobId=2996569370&start=0']\n",
      "['Associate Data Processing Engineer', 'GfK Karachi Division, Pakistan', 'https://www.linkedin.com/jobs/collections/recommended/?currentJobId=2881799666&start=0']\n",
      "['Business Intelligence Developer', 'VavaCars Karachi Division, Pakistan On-site', 'https://www.linkedin.com/jobs/collections/recommended/?currentJobId=2978655004&start=0']\n",
      "['M&A Analyst', 'Banyan Software Karāchi, Sindh, Pakistan Hybrid', 'https://www.linkedin.com/jobs/collections/recommended/?currentJobId=2994818973&start=0']\n",
      "['Associate Data Processing Engineer', 'GfK Karachi Division, Pakistan', 'https://www.linkedin.com/jobs/collections/recommended/?currentJobId=2997275801&start=0']\n",
      "['Deputy Manager Data Science', 'K-Electric Karāchi, Sindh, Pakistan On-site', 'https://www.linkedin.com/jobs/collections/recommended/?currentJobId=2977112449&start=0']\n",
      "['Senior Research Executive', 'NielsenIQ Karāchi, Sindh, Pakistan', 'https://www.linkedin.com/jobs/collections/recommended/?currentJobId=2938132941&start=0']\n",
      "['Lead Data Engineer (Fully Remote)', 'ELEMENTS GLOBAL SERVICES Pakistan Remote', 'https://www.linkedin.com/jobs/collections/recommended/?currentJobId=2974373259&start=0']\n",
      "['Lead Data Analyst', 'Daraz Karāchi, Sindh, Pakistan On-site', 'https://www.linkedin.com/jobs/collections/recommended/?currentJobId=2942994525&start=0']\n",
      "['DevOps Engineer (MLOps)', 'Innovative Solutions Karāchi, Sindh, Pakistan On-site', 'https://www.linkedin.com/jobs/collections/recommended/?currentJobId=2959150407&start=0']\n",
      "['Growth Lead', 'Careem Karāchi, Sindh, Pakistan On-site', 'https://www.linkedin.com/jobs/collections/recommended/?currentJobId=2981518133&start=0']\n",
      "['Officer - Regulatory Compliance', 'ACCA Careers Karāchi, Sindh, Pakistan On-site', 'https://www.linkedin.com/jobs/collections/recommended/?currentJobId=3000866278&start=0']\n",
      "['Software Engineer II (Backend) - Operations Automation', 'Careem Karāchi, Sindh, Pakistan', 'https://www.linkedin.com/jobs/collections/recommended/?currentJobId=2980868915&start=0']\n",
      "['Senior Consultant | Business Consulting - ABF Financial Planning, Analysis & Consolidation', 'EY Karāchi, Sindh, Pakistan', 'https://www.linkedin.com/jobs/collections/recommended/?currentJobId=3006091918&start=0']\n"
     ]
    }
   ],
   "source": [
    "jobs_data = []\n",
    "\n",
    "for a in anchors:\n",
    "    driver.get(a)\n",
    "    time.sleep(3)\n",
    "    job_div = driver.find_element_by_class_name(\"jobs-unified-top-card\")\n",
    "    # print(job_div.text)\n",
    "    job_title = job_div.find_element_by_tag_name(\"h2\").text\n",
    "    job_subtitle = job_div.find_element_by_class_name(\"jobs-unified-top-card__subtitle-primary-grouping\").text\n",
    "\n",
    "    # job_div.find_element_by_class_name(\"jobs-unified-top-card__job-insight\").text.split(\"·\")\n",
    "    a = job_div.find_elements_by_class_name(\"jobs-unified-top-card__job-insight\")[0].text.split(\"·\")\n",
    "    job_type, job_exp = a[0].strip(), a[1].strip() \n",
    "    b = job_div.find_elements_by_class_name(\"jobs-unified-top-card__job-insight\")[1].text.split(\"·\")\n",
    "#     no_emps, services = b[0].strip(), b[1].strip() \n",
    "#     no_emps, services\n",
    "\n",
    "    job = [job_title,job_subtitle,a]\n",
    "    print(job)\n",
    "    jobs_data.append(job)"
   ]
  },
  {
   "cell_type": "code",
   "execution_count": 91,
   "metadata": {},
   "outputs": [],
   "source": [
    "import pandas as pd"
   ]
  },
  {
   "cell_type": "code",
   "execution_count": 95,
   "metadata": {},
   "outputs": [],
   "source": [
    "pd.DataFrame(jobs_data, columns = [\"Job Titles\",\"Companies & Locations\",\"Links\"]).to_excel(\"jobs.xlsx\", index = False)"
   ]
  },
  {
   "cell_type": "code",
   "execution_count": null,
   "metadata": {},
   "outputs": [],
   "source": []
  }
 ],
 "metadata": {
  "kernelspec": {
   "display_name": "Python 3",
   "language": "python",
   "name": "python3"
  },
  "language_info": {
   "codemirror_mode": {
    "name": "ipython",
    "version": 3
   },
   "file_extension": ".py",
   "mimetype": "text/x-python",
   "name": "python",
   "nbconvert_exporter": "python",
   "pygments_lexer": "ipython3",
   "version": "3.8.3"
  }
 },
 "nbformat": 4,
 "nbformat_minor": 5
}
